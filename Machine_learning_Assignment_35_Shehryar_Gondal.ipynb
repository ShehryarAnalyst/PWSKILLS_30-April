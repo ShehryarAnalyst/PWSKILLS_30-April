{
 "cells": [
  {
   "cell_type": "markdown",
   "id": "2a1ba797",
   "metadata": {},
   "source": [
    "## Assignment Questions"
   ]
  },
  {
   "cell_type": "markdown",
   "id": "0de7b4c7",
   "metadata": {},
   "source": [
    "Q1. Homogeneity and completeness are clustering evaluation metrics. Homogeneity measures the purity of clusters in terms of true class labels. Completeness measures the extent to which all data points of a true class are assigned to the same cluster.\n",
    "\n",
    "Q2. The V-measure is a clustering evaluation metric that combines homogeneity and completeness into a single score using the harmonic mean.\n",
    "\n",
    "Q3. The Silhouette Coefficient measures the quality of a clustering result based on the cohesion within clusters and the separation between clusters. Its values range from -1 to 1.\n",
    "\n",
    "Q4. The Davies-Bouldin Index evaluates the quality of a clustering result by considering the separation and compactness of clusters. Lower values indicate better clustering quality.\n",
    "\n",
    "Q5. Yes, a clustering result can have high homogeneity but low completeness, indicating that clusters contain data from one true class but fail to capture the complete grouping of that class.\n",
    "\n",
    "Q6. The V-measure can help determine the optimal number of clusters by comparing clustering results across different numbers of clusters.\n",
    "\n",
    "Q7. Advantages of the Silhouette Coefficient: evaluates cluster quality and separation, easy interpretation. Disadvantages: sensitive to distance metric, assumes continuous distance, doesn't provide optimal cluster number.\n",
    "\n",
    "Q8. Limitations of the Davies-Bouldin Index: assumes spherical clusters and similar sizes. They can be overcome by using it alongside other metrics and considering specific clustering characteristics.\n",
    "\n",
    "Q9. Homogeneity, completeness, and the V-measure are related metrics. They can have different values for the same clustering result if one aspect is high while the other is low.\n",
    "\n",
    "Q10. The Silhouette Coefficient can compare clustering algorithms on the same dataset. Issues to watch out for: distance metric choice, number of clusters, and sensitivity to cluster shape.\n",
    "\n",
    "Q11. The Davies-Bouldin Index measures cluster separation and compactness assuming spherical clusters and similar sizes.\n",
    "\n",
    "Q12. Yes, the Silhouette Coefficient can evaluate hierarchical clustering algorithms by calculating it at different levels of the hierarchy using assigned cluster labels."
   ]
  }
 ],
 "metadata": {
  "kernelspec": {
   "display_name": "Python 3 (ipykernel)",
   "language": "python",
   "name": "python3"
  },
  "language_info": {
   "codemirror_mode": {
    "name": "ipython",
    "version": 3
   },
   "file_extension": ".py",
   "mimetype": "text/x-python",
   "name": "python",
   "nbconvert_exporter": "python",
   "pygments_lexer": "ipython3",
   "version": "3.9.12"
  },
  "varInspector": {
   "cols": {
    "lenName": 16,
    "lenType": 16,
    "lenVar": 40
   },
   "kernels_config": {
    "python": {
     "delete_cmd_postfix": "",
     "delete_cmd_prefix": "del ",
     "library": "var_list.py",
     "varRefreshCmd": "print(var_dic_list())"
    },
    "r": {
     "delete_cmd_postfix": ") ",
     "delete_cmd_prefix": "rm(",
     "library": "var_list.r",
     "varRefreshCmd": "cat(var_dic_list()) "
    }
   },
   "types_to_exclude": [
    "module",
    "function",
    "builtin_function_or_method",
    "instance",
    "_Feature"
   ],
   "window_display": false
  }
 },
 "nbformat": 4,
 "nbformat_minor": 5
}
